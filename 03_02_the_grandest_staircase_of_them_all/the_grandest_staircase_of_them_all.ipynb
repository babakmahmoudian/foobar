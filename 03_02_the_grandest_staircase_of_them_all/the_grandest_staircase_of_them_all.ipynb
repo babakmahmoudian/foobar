{
 "cells": [
  {
   "cell_type": "markdown",
   "metadata": {},
   "source": [
    "# Challenge description"
   ]
  },
  {
   "cell_type": "markdown",
   "metadata": {},
   "source": [
    "With the LAMBCHOP doomsday device finished, Commander Lambda is preparing to debut on the galactic stage -- but in order to make a grand entrance, Lambda needs a grand staircase! As the Commander's personal assistant, you've been tasked with figuring out how to build the best staircase EVER. \n",
    "\n",
    "Lambda has given you an overview of the types of bricks available, plus a budget. You can buy different amounts of the different types of bricks (for example, 3 little pink bricks, or 5 blue lace bricks). Commander Lambda wants to know how many different types of staircases can be built with each amount of bricks, so they can pick the one with the most options. \n",
    "\n",
    "Each type of staircase should consist of 2 or more steps.  No two steps are allowed to be at the same height - each step must be lower than the previous one. All steps must contain at least one brick. A step's height is classified as the total amount of bricks that make up that step.\n",
    "For example, when N = 3, you have only 1 choice of how to build the staircase, with the first step having a height of 2 and the second step having a height of 1: (# indicates a brick)\n",
    "\n",
    "\\#  \n",
    "\\#\\#  \n",
    "21\n",
    "\n",
    "When N = 4, you still only have 1 staircase choice:\n",
    "\n",
    "\\#  \n",
    "\\#\\#\\#  \n",
    "31\n",
    " \n",
    "But when N = 5, there are two ways you can build a staircase from the given bricks. The two staircases can have heights (4, 1) or (3, 2), as shown below:\n",
    "\n",
    "\\#  \n",
    "\\#\\#\\#\\#  \n",
    "41\n",
    "\n",
    "\\#\\#  \n",
    "\\#\\#\\#  \n",
    "32\n",
    "\n",
    "Write a function called solution(n) that takes a positive integer n and returns the number of different staircases that can be built from exactly n bricks. n will always be at least 3 (so you can have a staircase at all), but no more than 200, because Commander Lambda's not made of money!"
   ]
  },
  {
   "cell_type": "markdown",
   "metadata": {},
   "source": [
    "# Code"
   ]
  },
  {
   "cell_type": "markdown",
   "metadata": {},
   "source": [
    "## Solution"
   ]
  },
  {
   "cell_type": "markdown",
   "metadata": {},
   "source": [
    "### Recursive solution with memorization:"
   ]
  },
  {
   "cell_type": "code",
   "execution_count": 16,
   "metadata": {},
   "outputs": [],
   "source": [
    "def solution_recursive(n):\n",
    "    def get_staircases(remained_bricks_count, previous_height, memo):\n",
    "        if (remained_bricks_count, previous_height) in memo:\n",
    "            return memo[(remained_bricks_count, previous_height)]\n",
    "        if remained_bricks_count == 0: return 1\n",
    "        if remained_bricks_count < 0: return 0\n",
    "        \n",
    "        staircase_count = 0\n",
    "        for stair_height in range(1, previous_height):\n",
    "            count = get_staircases(\n",
    "                remained_bricks_count - stair_height,\n",
    "                stair_height,\n",
    "                memo\n",
    "                )\n",
    "            staircase_count += count\n",
    "        \n",
    "        memo[(remained_bricks_count, previous_height)] = staircase_count\n",
    "        return staircase_count\n",
    "            \n",
    "    return get_staircases(n, n, {})"
   ]
  },
  {
   "cell_type": "code",
   "execution_count": 17,
   "metadata": {},
   "outputs": [],
   "source": [
    "assert solution_recursive(3) == 1"
   ]
  },
  {
   "cell_type": "code",
   "execution_count": 18,
   "metadata": {},
   "outputs": [],
   "source": [
    "assert solution_recursive(4) == 1"
   ]
  },
  {
   "cell_type": "code",
   "execution_count": 19,
   "metadata": {},
   "outputs": [],
   "source": [
    "assert solution_recursive(5) == 2"
   ]
  },
  {
   "cell_type": "code",
   "execution_count": 20,
   "metadata": {},
   "outputs": [],
   "source": [
    "assert solution_recursive(200) == 487067745"
   ]
  },
  {
   "cell_type": "markdown",
   "metadata": {},
   "source": [
    "### Another recursive solution:"
   ]
  },
  {
   "cell_type": "markdown",
   "metadata": {},
   "source": [
    "Either builds a new stair from current height and then increments the height;\n",
    "or tries the current stair with incremented height"
   ]
  },
  {
   "cell_type": "code",
   "execution_count": 21,
   "metadata": {},
   "outputs": [],
   "source": [
    "def solution_recursive_2(n):\n",
    "    def get_staircases(current_height, remaining_bricks, memo):\n",
    "        if memo[current_height][remaining_bricks] != -1:\n",
    "            return memo[current_height][remaining_bricks]\n",
    "\n",
    "        if remaining_bricks == 0:\n",
    "            return 1\n",
    "        if remaining_bricks < current_height:\n",
    "            return 0\n",
    "        \n",
    "        staircase_count = get_staircases(current_height + 1, remaining_bricks - current_height, memo) + \\\n",
    "            get_staircases(current_height + 1, remaining_bricks, memo)\n",
    "        memo[current_height][remaining_bricks] = staircase_count\n",
    "        return staircase_count\n",
    "    \n",
    "    memo = [[-1 for j in range(n + 2)] for i in range(n + 2)]\n",
    "    return get_staircases(1, n, memo) - 1"
   ]
  },
  {
   "cell_type": "code",
   "execution_count": 22,
   "metadata": {},
   "outputs": [],
   "source": [
    "assert solution_recursive_2(3) == 1"
   ]
  },
  {
   "cell_type": "code",
   "execution_count": 23,
   "metadata": {},
   "outputs": [],
   "source": [
    "assert solution_recursive_2(4) == 1"
   ]
  },
  {
   "cell_type": "code",
   "execution_count": 24,
   "metadata": {},
   "outputs": [],
   "source": [
    "assert solution_recursive_2(5) == 2"
   ]
  },
  {
   "cell_type": "code",
   "execution_count": 25,
   "metadata": {},
   "outputs": [],
   "source": [
    "assert solution_recursive_2(200) == 487067745"
   ]
  },
  {
   "cell_type": "markdown",
   "metadata": {},
   "source": [
    "### Mehdi's DP solution:"
   ]
  },
  {
   "cell_type": "code",
   "execution_count": 32,
   "metadata": {},
   "outputs": [],
   "source": [
    "map = {}\n",
    "\n",
    "\n",
    "def build_map(max):\n",
    "    for s in range(1, max):\n",
    "        for x in range(1, s):\n",
    "            bricks = x\n",
    "            height = s - x\n",
    "            map[(bricks, height)] = get_staircases(bricks, height)\n",
    "\n",
    "\n",
    "def get_staircases(bricks, height):\n",
    "    if bricks == 0:\n",
    "        return 1\n",
    "    if bricks < 0:\n",
    "        return 0\n",
    "    sum = 0\n",
    "    for x in range(1, height):\n",
    "        if (bricks - x == 0):\n",
    "            count = 1\n",
    "        elif bricks < x:\n",
    "            count = 0\n",
    "        else:\n",
    "            count = map[(bricks - x, x)]\n",
    "        sum += count\n",
    "    return sum\n",
    "\n",
    "\n",
    "def solution_dp_1(bricks):\n",
    "    build_map(bricks)\n",
    "    return get_staircases(bricks, bricks)\n",
    "\n",
    "\n"
   ]
  },
  {
   "cell_type": "code",
   "execution_count": 27,
   "metadata": {},
   "outputs": [],
   "source": [
    "assert solution_dp_1(3) == 1"
   ]
  },
  {
   "cell_type": "code",
   "execution_count": 28,
   "metadata": {},
   "outputs": [],
   "source": [
    "assert solution_dp_1(4) == 1"
   ]
  },
  {
   "cell_type": "code",
   "execution_count": 29,
   "metadata": {},
   "outputs": [],
   "source": [
    "assert solution_dp_1(5) == 2"
   ]
  },
  {
   "cell_type": "code",
   "execution_count": 33,
   "metadata": {},
   "outputs": [
    {
     "ename": "KeyError",
     "evalue": "(199, 1)",
     "output_type": "error",
     "traceback": [
      "\u001b[1;31m\u001b[0m",
      "\u001b[1;31mKeyError\u001b[0mTraceback (most recent call last)",
      "\u001b[1;32m<ipython-input-33-5cacb4deeb7a>\u001b[0m in \u001b[0;36m<module>\u001b[1;34m()\u001b[0m\n\u001b[1;32m----> 1\u001b[1;33m \u001b[1;32mprint\u001b[0m\u001b[1;33m(\u001b[0m\u001b[0msolution_dp_1\u001b[0m\u001b[1;33m(\u001b[0m\u001b[1;36m200\u001b[0m\u001b[1;33m)\u001b[0m\u001b[1;33m)\u001b[0m\u001b[1;33m\u001b[0m\u001b[0m\n\u001b[0m\u001b[0;32m      2\u001b[0m \u001b[1;31m# assert solution_dp_1(200) == 487067745\u001b[0m\u001b[1;33m\u001b[0m\u001b[1;33m\u001b[0m\u001b[0m\n",
      "\u001b[1;32m<ipython-input-32-8184e36a914d>\u001b[0m in \u001b[0;36msolution_dp_1\u001b[1;34m(bricks)\u001b[0m\n\u001b[0;32m     29\u001b[0m \u001b[1;32mdef\u001b[0m \u001b[0msolution_dp_1\u001b[0m\u001b[1;33m(\u001b[0m\u001b[0mbricks\u001b[0m\u001b[1;33m)\u001b[0m\u001b[1;33m:\u001b[0m\u001b[1;33m\u001b[0m\u001b[0m\n\u001b[0;32m     30\u001b[0m     \u001b[0mbuild_map\u001b[0m\u001b[1;33m(\u001b[0m\u001b[0mbricks\u001b[0m\u001b[1;33m)\u001b[0m\u001b[1;33m\u001b[0m\u001b[0m\n\u001b[1;32m---> 31\u001b[1;33m     \u001b[1;32mreturn\u001b[0m \u001b[0mget_staircases\u001b[0m\u001b[1;33m(\u001b[0m\u001b[0mbricks\u001b[0m\u001b[1;33m,\u001b[0m \u001b[0mbricks\u001b[0m\u001b[1;33m)\u001b[0m\u001b[1;33m\u001b[0m\u001b[0m\n\u001b[0m\u001b[0;32m     32\u001b[0m \u001b[1;33m\u001b[0m\u001b[0m\n\u001b[0;32m     33\u001b[0m \u001b[1;33m\u001b[0m\u001b[0m\n",
      "\u001b[1;32m<ipython-input-32-8184e36a914d>\u001b[0m in \u001b[0;36mget_staircases\u001b[1;34m(bricks, height)\u001b[0m\n\u001b[0;32m     22\u001b[0m             \u001b[0mcount\u001b[0m \u001b[1;33m=\u001b[0m \u001b[1;36m0\u001b[0m\u001b[1;33m\u001b[0m\u001b[0m\n\u001b[0;32m     23\u001b[0m         \u001b[1;32melse\u001b[0m\u001b[1;33m:\u001b[0m\u001b[1;33m\u001b[0m\u001b[0m\n\u001b[1;32m---> 24\u001b[1;33m             \u001b[0mcount\u001b[0m \u001b[1;33m=\u001b[0m \u001b[0mmap\u001b[0m\u001b[1;33m[\u001b[0m\u001b[1;33m(\u001b[0m\u001b[0mbricks\u001b[0m \u001b[1;33m-\u001b[0m \u001b[0mx\u001b[0m\u001b[1;33m,\u001b[0m \u001b[0mx\u001b[0m\u001b[1;33m)\u001b[0m\u001b[1;33m]\u001b[0m\u001b[1;33m\u001b[0m\u001b[0m\n\u001b[0m\u001b[0;32m     25\u001b[0m         \u001b[0msum\u001b[0m \u001b[1;33m+=\u001b[0m \u001b[0mcount\u001b[0m\u001b[1;33m\u001b[0m\u001b[0m\n\u001b[0;32m     26\u001b[0m     \u001b[1;32mreturn\u001b[0m \u001b[0msum\u001b[0m\u001b[1;33m\u001b[0m\u001b[0m\n",
      "\u001b[1;31mKeyError\u001b[0m: (199, 1)"
     ]
    }
   ],
   "source": [
    "print(solution_dp_1(200))\n",
    "# assert solution_dp_1(200) == 487067745"
   ]
  },
  {
   "cell_type": "markdown",
   "metadata": {},
   "source": [
    "### DP solution:"
   ]
  },
  {
   "cell_type": "code",
   "execution_count": null,
   "metadata": {},
   "outputs": [],
   "source": [
    "\n",
    "def solution_dp_2(n):\n",
    "    m = [[0 for i in range(n + 1)] for j in range(n + 1)]\n",
    "    m[0][0] = 1\n",
    "\n",
    "    for last in range(1, n + 1):\n",
    "        for left in range(0, n + 1):\n",
    "            m[last][left] = m[last - 1][left]\n",
    "            if left >= last:\n",
    "                m[last][left] += m[last - 1][left - last]\n",
    "\n",
    "    return m[n][n] - 1"
   ]
  },
  {
   "cell_type": "markdown",
   "metadata": {},
   "source": [
    "Tests:"
   ]
  },
  {
   "cell_type": "code",
   "execution_count": null,
   "metadata": {},
   "outputs": [],
   "source": [
    "assert solution_dp_2(3) == 1"
   ]
  },
  {
   "cell_type": "code",
   "execution_count": null,
   "metadata": {},
   "outputs": [],
   "source": [
    "assert solution_dp_2(4) == 1"
   ]
  },
  {
   "cell_type": "code",
   "execution_count": null,
   "metadata": {},
   "outputs": [],
   "source": [
    "assert solution_dp_2(5) == 2"
   ]
  },
  {
   "cell_type": "code",
   "execution_count": null,
   "metadata": {},
   "outputs": [],
   "source": [
    "assert solution_dp_2(200) == 487067745"
   ]
  },
  {
   "cell_type": "markdown",
   "metadata": {},
   "source": [
    "**Description 1:**\n",
    "***\n",
    "Each cell is storing the number of different staircases that can be built at the current state.\n",
    "\n",
    "As explained in the Top-Down section, a state can be defined as:\n",
    "\n",
    " (height of the current stair, number of bricks left)\n",
    ". For the Bottom-Up approach, a state is one entry in the table and corresponds to one sub-problem.\n",
    "\n",
    "So what the line\n",
    "\n",
    " m[last][left] = m[last - 1][left] \n",
    "means is: \"At the current state, we initialize the number of different staircases that can be built to be what we had at the previous height (last - 1), with the same number of bricks (left variable)."
   ]
  },
  {
   "cell_type": "markdown",
   "metadata": {},
   "source": [
    "**Description 2:**\n",
    "***\n",
    "A. There's a reason for decreasing 1 option from the final result (for example count(1, n) - 1). It is the scenario of 1 stair which utilizes all the bricks, which's a valid sub-problem according to your Top Down state-definition. It's being removed in retrospect, due to the following constraint: \"Every staircase consists of at least two steps\".\n",
    "\n",
    "B. You provided a state-definition to the Top Down approach, however the Bottom Up approach lacks such definition. They aren't equal by any means, the bottom up state-definition is more confusing:\n",
    "m[last][left] represents the amount of options to build a staircase, s.t. its last step is equal or smaller than 'last', utilizing exactly 'left' bricks. The smaller or equal attribute means, that states aren't disjoint, i.e. there are intersections.\n",
    "\n",
    "C. Still regarding the Bottom Up approach. It's better be clarified (i.e. logical proof), especially since the state-definition is accumulative:\n",
    "* Addition I: m[last][left] = m[last - 1][left]:\n",
    "Each sub-problem having last (rightmost) step height of 'last - 1' at most, which utilizes exactly 'left' bricks, should be counted. In reference to B, because the state definition is accumulative.\n",
    "* Addition II: m[last][left] += m[last - 1][left - last]:\n",
    "Each sub-problem with max height of 'last - 1' (possibly less), which utilizes exactly 'left - last' bricks, can be expanded by adding 1 more stair of height 'last' (it will be the rightmost of course).\n",
    "\n",
    "D. Still regarding the Bottom Up approach:\n",
    "\"The running time ... is a little bit slower than for the custom memoization implementation. In the bottom-up approach, all the states are visited (2 for-loops => 500 ** 2 = 250000 states). In the top-down approach, only the states that are needed are computed\"\n",
    "Well, this is actually up to you, and the confusion comes from lack of well-defined state. Notice that your nested loop visits irrelevant states, in which last > left (impossible to build even 1 step of height last, if you have less than last bricks). In fact, for any last > left, we know that:\n",
    "m[last][left] = m[left][left]\n",
    "i.e. increasing last any higher than left, cannot add more (accumulated) options. Wrapping up all that, the bottom-up approach will be faster than top-down (due to no function stack calls), if we replace the nested loop\n",
    "for left in range(0, n + 1):\n",
    "with\n",
    "for left in range(0, last + 1):\n",
    "\n",
    "E. Especially since recurrence formulas can be tricky / confusing, I'd choose more explicit variable naming:\n",
    "* 'last_step_height' instead 'last'.\n",
    "* 'bricks_count' or 'utilized_bricks' instead 'left'."
   ]
  }
 ],
 "metadata": {
  "interpreter": {
   "hash": "7a14511971287131154240e3478b29becda874afbe22feae84029057807d43f3"
  },
  "kernelspec": {
   "display_name": "Python 2.7.18 64-bit (system)",
   "language": "python",
   "name": "python3"
  },
  "language_info": {
   "codemirror_mode": {
    "name": "ipython",
    "version": 2
   },
   "file_extension": ".py",
   "mimetype": "text/x-python",
   "name": "python",
   "nbconvert_exporter": "python",
   "pygments_lexer": "ipython2",
   "version": "2.7.18"
  },
  "orig_nbformat": 4
 },
 "nbformat": 4,
 "nbformat_minor": 2
}
